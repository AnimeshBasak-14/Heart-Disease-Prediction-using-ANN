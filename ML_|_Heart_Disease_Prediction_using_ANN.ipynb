{
  "nbformat": 4,
  "nbformat_minor": 0,
  "metadata": {
    "colab": {
      "provenance": [],
      "mount_file_id": "1gqKq2A98nvhndTYHZgKWFSxBf94Q10mI",
      "authorship_tag": "ABX9TyNIX0Lo6f++DT7vjn05iGDV",
      "include_colab_link": true
    },
    "kernelspec": {
      "name": "python3",
      "display_name": "Python 3"
    },
    "language_info": {
      "name": "python"
    }
  },
  "cells": [
    {
      "cell_type": "markdown",
      "metadata": {
        "id": "view-in-github",
        "colab_type": "text"
      },
      "source": [
        "<a href=\"https://colab.research.google.com/github/AnimeshBasak-14/Heart-Disease-Prediction-using-ANN/blob/main/ML_%7C_Heart_Disease_Prediction_using_ANN.ipynb\" target=\"_parent\"><img src=\"https://colab.research.google.com/assets/colab-badge.svg\" alt=\"Open In Colab\"/></a>"
      ]
    },
    {
      "cell_type": "markdown",
      "source": [
        "Code : Importing Libraries\n"
      ],
      "metadata": {
        "id": "X_cUkyUNjA4Q"
      }
    },
    {
      "cell_type": "code",
      "source": [
        "from google.colab import drive\n",
        "drive.mount('/content/drive')"
      ],
      "metadata": {
        "id": "zT7V5nRghmoz"
      },
      "execution_count": null,
      "outputs": []
    },
    {
      "cell_type": "code",
      "execution_count": null,
      "metadata": {
        "id": "q-5bwtKkhwvY"
      },
      "outputs": [],
      "source": [
        "import tensorflow as tf\n",
        "import pandas as pd\n",
        "import numpy as np\n",
        "import matplotlib.pyplot as plt\n",
        "import keras\n",
        "from keras.models import Sequential\n",
        "from keras.layers import Dense\n",
        "from sklearn.metrics import confusion_matrix\n"
      ]
    },
    {
      "cell_type": "markdown",
      "source": [
        "Code: Importing Dataset\n",
        "\n",
        "\n"
      ],
      "metadata": {
        "id": "_lIv8ypzjDcN"
      }
    },
    {
      "cell_type": "markdown",
      "source": [
        "Dataset link:[link text](https://www.kaggle.com/code/bulentsiyah/heart-disease-prediction-using-neural-networks)"
      ],
      "metadata": {
        "id": "FE4EfTJHOBmW"
      }
    },
    {
      "cell_type": "code",
      "source": [
        "data = pd.read_csv('/content/drive/MyDrive/Colab Notebooks/Classification/Data set/ML | Heart Disease Prediction using ANN.csv')\n",
        "data.head()\n"
      ],
      "metadata": {
        "id": "BzSCBIrehxrQ",
        "colab": {
          "base_uri": "https://localhost:8080/",
          "height": 206
        },
        "outputId": "a96ff255-79aa-4bfb-e9f2-f69e412e66d3"
      },
      "execution_count": null,
      "outputs": [
        {
          "output_type": "execute_result",
          "data": {
            "text/plain": [
              "   age  sex  cp  trestbps  chol  fbs  restecg  thalach  exang  oldpeak  slope  \\\n",
              "0   63    1   3       145   233    1        0      150      0      2.3      0   \n",
              "1   37    1   2       130   250    0        1      187      0      3.5      0   \n",
              "2   41    0   1       130   204    0        0      172      0      1.4      2   \n",
              "3   56    1   1       120   236    0        1      178      0      0.8      2   \n",
              "4   57    0   0       120   354    0        1      163      1      0.6      2   \n",
              "\n",
              "   ca  thal  target  \n",
              "0   0     1       1  \n",
              "1   0     2       1  \n",
              "2   0     2       1  \n",
              "3   0     2       1  \n",
              "4   0     2       1  "
            ],
            "text/html": [
              "\n",
              "\n",
              "  <div id=\"df-d2b947ba-1c3f-4299-8b8d-55c906b0b94b\">\n",
              "    <div class=\"colab-df-container\">\n",
              "      <div>\n",
              "<style scoped>\n",
              "    .dataframe tbody tr th:only-of-type {\n",
              "        vertical-align: middle;\n",
              "    }\n",
              "\n",
              "    .dataframe tbody tr th {\n",
              "        vertical-align: top;\n",
              "    }\n",
              "\n",
              "    .dataframe thead th {\n",
              "        text-align: right;\n",
              "    }\n",
              "</style>\n",
              "<table border=\"1\" class=\"dataframe\">\n",
              "  <thead>\n",
              "    <tr style=\"text-align: right;\">\n",
              "      <th></th>\n",
              "      <th>age</th>\n",
              "      <th>sex</th>\n",
              "      <th>cp</th>\n",
              "      <th>trestbps</th>\n",
              "      <th>chol</th>\n",
              "      <th>fbs</th>\n",
              "      <th>restecg</th>\n",
              "      <th>thalach</th>\n",
              "      <th>exang</th>\n",
              "      <th>oldpeak</th>\n",
              "      <th>slope</th>\n",
              "      <th>ca</th>\n",
              "      <th>thal</th>\n",
              "      <th>target</th>\n",
              "    </tr>\n",
              "  </thead>\n",
              "  <tbody>\n",
              "    <tr>\n",
              "      <th>0</th>\n",
              "      <td>63</td>\n",
              "      <td>1</td>\n",
              "      <td>3</td>\n",
              "      <td>145</td>\n",
              "      <td>233</td>\n",
              "      <td>1</td>\n",
              "      <td>0</td>\n",
              "      <td>150</td>\n",
              "      <td>0</td>\n",
              "      <td>2.3</td>\n",
              "      <td>0</td>\n",
              "      <td>0</td>\n",
              "      <td>1</td>\n",
              "      <td>1</td>\n",
              "    </tr>\n",
              "    <tr>\n",
              "      <th>1</th>\n",
              "      <td>37</td>\n",
              "      <td>1</td>\n",
              "      <td>2</td>\n",
              "      <td>130</td>\n",
              "      <td>250</td>\n",
              "      <td>0</td>\n",
              "      <td>1</td>\n",
              "      <td>187</td>\n",
              "      <td>0</td>\n",
              "      <td>3.5</td>\n",
              "      <td>0</td>\n",
              "      <td>0</td>\n",
              "      <td>2</td>\n",
              "      <td>1</td>\n",
              "    </tr>\n",
              "    <tr>\n",
              "      <th>2</th>\n",
              "      <td>41</td>\n",
              "      <td>0</td>\n",
              "      <td>1</td>\n",
              "      <td>130</td>\n",
              "      <td>204</td>\n",
              "      <td>0</td>\n",
              "      <td>0</td>\n",
              "      <td>172</td>\n",
              "      <td>0</td>\n",
              "      <td>1.4</td>\n",
              "      <td>2</td>\n",
              "      <td>0</td>\n",
              "      <td>2</td>\n",
              "      <td>1</td>\n",
              "    </tr>\n",
              "    <tr>\n",
              "      <th>3</th>\n",
              "      <td>56</td>\n",
              "      <td>1</td>\n",
              "      <td>1</td>\n",
              "      <td>120</td>\n",
              "      <td>236</td>\n",
              "      <td>0</td>\n",
              "      <td>1</td>\n",
              "      <td>178</td>\n",
              "      <td>0</td>\n",
              "      <td>0.8</td>\n",
              "      <td>2</td>\n",
              "      <td>0</td>\n",
              "      <td>2</td>\n",
              "      <td>1</td>\n",
              "    </tr>\n",
              "    <tr>\n",
              "      <th>4</th>\n",
              "      <td>57</td>\n",
              "      <td>0</td>\n",
              "      <td>0</td>\n",
              "      <td>120</td>\n",
              "      <td>354</td>\n",
              "      <td>0</td>\n",
              "      <td>1</td>\n",
              "      <td>163</td>\n",
              "      <td>1</td>\n",
              "      <td>0.6</td>\n",
              "      <td>2</td>\n",
              "      <td>0</td>\n",
              "      <td>2</td>\n",
              "      <td>1</td>\n",
              "    </tr>\n",
              "  </tbody>\n",
              "</table>\n",
              "</div>\n",
              "      <button class=\"colab-df-convert\" onclick=\"convertToInteractive('df-d2b947ba-1c3f-4299-8b8d-55c906b0b94b')\"\n",
              "              title=\"Convert this dataframe to an interactive table.\"\n",
              "              style=\"display:none;\">\n",
              "\n",
              "  <svg xmlns=\"http://www.w3.org/2000/svg\" height=\"24px\"viewBox=\"0 0 24 24\"\n",
              "       width=\"24px\">\n",
              "    <path d=\"M0 0h24v24H0V0z\" fill=\"none\"/>\n",
              "    <path d=\"M18.56 5.44l.94 2.06.94-2.06 2.06-.94-2.06-.94-.94-2.06-.94 2.06-2.06.94zm-11 1L8.5 8.5l.94-2.06 2.06-.94-2.06-.94L8.5 2.5l-.94 2.06-2.06.94zm10 10l.94 2.06.94-2.06 2.06-.94-2.06-.94-.94-2.06-.94 2.06-2.06.94z\"/><path d=\"M17.41 7.96l-1.37-1.37c-.4-.4-.92-.59-1.43-.59-.52 0-1.04.2-1.43.59L10.3 9.45l-7.72 7.72c-.78.78-.78 2.05 0 2.83L4 21.41c.39.39.9.59 1.41.59.51 0 1.02-.2 1.41-.59l7.78-7.78 2.81-2.81c.8-.78.8-2.07 0-2.86zM5.41 20L4 18.59l7.72-7.72 1.47 1.35L5.41 20z\"/>\n",
              "  </svg>\n",
              "      </button>\n",
              "\n",
              "\n",
              "\n",
              "    <div id=\"df-229c131c-18aa-4e73-952a-66379bdcc343\">\n",
              "      <button class=\"colab-df-quickchart\" onclick=\"quickchart('df-229c131c-18aa-4e73-952a-66379bdcc343')\"\n",
              "              title=\"Suggest charts.\"\n",
              "              style=\"display:none;\">\n",
              "\n",
              "<svg xmlns=\"http://www.w3.org/2000/svg\" height=\"24px\"viewBox=\"0 0 24 24\"\n",
              "     width=\"24px\">\n",
              "    <g>\n",
              "        <path d=\"M19 3H5c-1.1 0-2 .9-2 2v14c0 1.1.9 2 2 2h14c1.1 0 2-.9 2-2V5c0-1.1-.9-2-2-2zM9 17H7v-7h2v7zm4 0h-2V7h2v10zm4 0h-2v-4h2v4z\"/>\n",
              "    </g>\n",
              "</svg>\n",
              "      </button>\n",
              "    </div>\n",
              "\n",
              "<style>\n",
              "  .colab-df-quickchart {\n",
              "    background-color: #E8F0FE;\n",
              "    border: none;\n",
              "    border-radius: 50%;\n",
              "    cursor: pointer;\n",
              "    display: none;\n",
              "    fill: #1967D2;\n",
              "    height: 32px;\n",
              "    padding: 0 0 0 0;\n",
              "    width: 32px;\n",
              "  }\n",
              "\n",
              "  .colab-df-quickchart:hover {\n",
              "    background-color: #E2EBFA;\n",
              "    box-shadow: 0px 1px 2px rgba(60, 64, 67, 0.3), 0px 1px 3px 1px rgba(60, 64, 67, 0.15);\n",
              "    fill: #174EA6;\n",
              "  }\n",
              "\n",
              "  [theme=dark] .colab-df-quickchart {\n",
              "    background-color: #3B4455;\n",
              "    fill: #D2E3FC;\n",
              "  }\n",
              "\n",
              "  [theme=dark] .colab-df-quickchart:hover {\n",
              "    background-color: #434B5C;\n",
              "    box-shadow: 0px 1px 3px 1px rgba(0, 0, 0, 0.15);\n",
              "    filter: drop-shadow(0px 1px 2px rgba(0, 0, 0, 0.3));\n",
              "    fill: #FFFFFF;\n",
              "  }\n",
              "</style>\n",
              "\n",
              "    <script>\n",
              "      async function quickchart(key) {\n",
              "        const containerElement = document.querySelector('#' + key);\n",
              "        const charts = await google.colab.kernel.invokeFunction(\n",
              "            'suggestCharts', [key], {});\n",
              "      }\n",
              "    </script>\n",
              "\n",
              "      <script>\n",
              "\n",
              "function displayQuickchartButton(domScope) {\n",
              "  let quickchartButtonEl =\n",
              "    domScope.querySelector('#df-229c131c-18aa-4e73-952a-66379bdcc343 button.colab-df-quickchart');\n",
              "  quickchartButtonEl.style.display =\n",
              "    google.colab.kernel.accessAllowed ? 'block' : 'none';\n",
              "}\n",
              "\n",
              "        displayQuickchartButton(document);\n",
              "      </script>\n",
              "      <style>\n",
              "    .colab-df-container {\n",
              "      display:flex;\n",
              "      flex-wrap:wrap;\n",
              "      gap: 12px;\n",
              "    }\n",
              "\n",
              "    .colab-df-convert {\n",
              "      background-color: #E8F0FE;\n",
              "      border: none;\n",
              "      border-radius: 50%;\n",
              "      cursor: pointer;\n",
              "      display: none;\n",
              "      fill: #1967D2;\n",
              "      height: 32px;\n",
              "      padding: 0 0 0 0;\n",
              "      width: 32px;\n",
              "    }\n",
              "\n",
              "    .colab-df-convert:hover {\n",
              "      background-color: #E2EBFA;\n",
              "      box-shadow: 0px 1px 2px rgba(60, 64, 67, 0.3), 0px 1px 3px 1px rgba(60, 64, 67, 0.15);\n",
              "      fill: #174EA6;\n",
              "    }\n",
              "\n",
              "    [theme=dark] .colab-df-convert {\n",
              "      background-color: #3B4455;\n",
              "      fill: #D2E3FC;\n",
              "    }\n",
              "\n",
              "    [theme=dark] .colab-df-convert:hover {\n",
              "      background-color: #434B5C;\n",
              "      box-shadow: 0px 1px 3px 1px rgba(0, 0, 0, 0.15);\n",
              "      filter: drop-shadow(0px 1px 2px rgba(0, 0, 0, 0.3));\n",
              "      fill: #FFFFFF;\n",
              "    }\n",
              "  </style>\n",
              "\n",
              "      <script>\n",
              "        const buttonEl =\n",
              "          document.querySelector('#df-d2b947ba-1c3f-4299-8b8d-55c906b0b94b button.colab-df-convert');\n",
              "        buttonEl.style.display =\n",
              "          google.colab.kernel.accessAllowed ? 'block' : 'none';\n",
              "\n",
              "        async function convertToInteractive(key) {\n",
              "          const element = document.querySelector('#df-d2b947ba-1c3f-4299-8b8d-55c906b0b94b');\n",
              "          const dataTable =\n",
              "            await google.colab.kernel.invokeFunction('convertToInteractive',\n",
              "                                                     [key], {});\n",
              "          if (!dataTable) return;\n",
              "\n",
              "          const docLinkHtml = 'Like what you see? Visit the ' +\n",
              "            '<a target=\"_blank\" href=https://colab.research.google.com/notebooks/data_table.ipynb>data table notebook</a>'\n",
              "            + ' to learn more about interactive tables.';\n",
              "          element.innerHTML = '';\n",
              "          dataTable['output_type'] = 'display_data';\n",
              "          await google.colab.output.renderOutput(dataTable, element);\n",
              "          const docLink = document.createElement('div');\n",
              "          docLink.innerHTML = docLinkHtml;\n",
              "          element.appendChild(docLink);\n",
              "        }\n",
              "      </script>\n",
              "    </div>\n",
              "  </div>\n"
            ]
          },
          "metadata": {},
          "execution_count": 14
        }
      ]
    },
    {
      "cell_type": "markdown",
      "source": [
        "Data Description:\n",
        "\n"
      ],
      "metadata": {
        "id": "n8oKd-bKjHY_"
      }
    },
    {
      "cell_type": "code",
      "source": [
        "data.describe()\n"
      ],
      "metadata": {
        "id": "InFYswtah0PL",
        "colab": {
          "base_uri": "https://localhost:8080/",
          "height": 364
        },
        "outputId": "ebb521d0-3cdb-4f23-eb42-15e9bcbb18f2"
      },
      "execution_count": null,
      "outputs": [
        {
          "output_type": "execute_result",
          "data": {
            "text/plain": [
              "              age         sex          cp    trestbps        chol         fbs  \\\n",
              "count  303.000000  303.000000  303.000000  303.000000  303.000000  303.000000   \n",
              "mean    54.366337    0.683168    0.966997  131.623762  246.264026    0.148515   \n",
              "std      9.082101    0.466011    1.032052   17.538143   51.830751    0.356198   \n",
              "min     29.000000    0.000000    0.000000   94.000000  126.000000    0.000000   \n",
              "25%     47.500000    0.000000    0.000000  120.000000  211.000000    0.000000   \n",
              "50%     55.000000    1.000000    1.000000  130.000000  240.000000    0.000000   \n",
              "75%     61.000000    1.000000    2.000000  140.000000  274.500000    0.000000   \n",
              "max     77.000000    1.000000    3.000000  200.000000  564.000000    1.000000   \n",
              "\n",
              "          restecg     thalach       exang     oldpeak       slope          ca  \\\n",
              "count  303.000000  303.000000  303.000000  303.000000  303.000000  303.000000   \n",
              "mean     0.528053  149.646865    0.326733    1.039604    1.399340    0.729373   \n",
              "std      0.525860   22.905161    0.469794    1.161075    0.616226    1.022606   \n",
              "min      0.000000   71.000000    0.000000    0.000000    0.000000    0.000000   \n",
              "25%      0.000000  133.500000    0.000000    0.000000    1.000000    0.000000   \n",
              "50%      1.000000  153.000000    0.000000    0.800000    1.000000    0.000000   \n",
              "75%      1.000000  166.000000    1.000000    1.600000    2.000000    1.000000   \n",
              "max      2.000000  202.000000    1.000000    6.200000    2.000000    4.000000   \n",
              "\n",
              "             thal      target  \n",
              "count  303.000000  303.000000  \n",
              "mean     2.313531    0.544554  \n",
              "std      0.612277    0.498835  \n",
              "min      0.000000    0.000000  \n",
              "25%      2.000000    0.000000  \n",
              "50%      2.000000    1.000000  \n",
              "75%      3.000000    1.000000  \n",
              "max      3.000000    1.000000  "
            ],
            "text/html": [
              "\n",
              "\n",
              "  <div id=\"df-a1e1ac8e-0796-44d5-af49-01fb5363d826\">\n",
              "    <div class=\"colab-df-container\">\n",
              "      <div>\n",
              "<style scoped>\n",
              "    .dataframe tbody tr th:only-of-type {\n",
              "        vertical-align: middle;\n",
              "    }\n",
              "\n",
              "    .dataframe tbody tr th {\n",
              "        vertical-align: top;\n",
              "    }\n",
              "\n",
              "    .dataframe thead th {\n",
              "        text-align: right;\n",
              "    }\n",
              "</style>\n",
              "<table border=\"1\" class=\"dataframe\">\n",
              "  <thead>\n",
              "    <tr style=\"text-align: right;\">\n",
              "      <th></th>\n",
              "      <th>age</th>\n",
              "      <th>sex</th>\n",
              "      <th>cp</th>\n",
              "      <th>trestbps</th>\n",
              "      <th>chol</th>\n",
              "      <th>fbs</th>\n",
              "      <th>restecg</th>\n",
              "      <th>thalach</th>\n",
              "      <th>exang</th>\n",
              "      <th>oldpeak</th>\n",
              "      <th>slope</th>\n",
              "      <th>ca</th>\n",
              "      <th>thal</th>\n",
              "      <th>target</th>\n",
              "    </tr>\n",
              "  </thead>\n",
              "  <tbody>\n",
              "    <tr>\n",
              "      <th>count</th>\n",
              "      <td>303.000000</td>\n",
              "      <td>303.000000</td>\n",
              "      <td>303.000000</td>\n",
              "      <td>303.000000</td>\n",
              "      <td>303.000000</td>\n",
              "      <td>303.000000</td>\n",
              "      <td>303.000000</td>\n",
              "      <td>303.000000</td>\n",
              "      <td>303.000000</td>\n",
              "      <td>303.000000</td>\n",
              "      <td>303.000000</td>\n",
              "      <td>303.000000</td>\n",
              "      <td>303.000000</td>\n",
              "      <td>303.000000</td>\n",
              "    </tr>\n",
              "    <tr>\n",
              "      <th>mean</th>\n",
              "      <td>54.366337</td>\n",
              "      <td>0.683168</td>\n",
              "      <td>0.966997</td>\n",
              "      <td>131.623762</td>\n",
              "      <td>246.264026</td>\n",
              "      <td>0.148515</td>\n",
              "      <td>0.528053</td>\n",
              "      <td>149.646865</td>\n",
              "      <td>0.326733</td>\n",
              "      <td>1.039604</td>\n",
              "      <td>1.399340</td>\n",
              "      <td>0.729373</td>\n",
              "      <td>2.313531</td>\n",
              "      <td>0.544554</td>\n",
              "    </tr>\n",
              "    <tr>\n",
              "      <th>std</th>\n",
              "      <td>9.082101</td>\n",
              "      <td>0.466011</td>\n",
              "      <td>1.032052</td>\n",
              "      <td>17.538143</td>\n",
              "      <td>51.830751</td>\n",
              "      <td>0.356198</td>\n",
              "      <td>0.525860</td>\n",
              "      <td>22.905161</td>\n",
              "      <td>0.469794</td>\n",
              "      <td>1.161075</td>\n",
              "      <td>0.616226</td>\n",
              "      <td>1.022606</td>\n",
              "      <td>0.612277</td>\n",
              "      <td>0.498835</td>\n",
              "    </tr>\n",
              "    <tr>\n",
              "      <th>min</th>\n",
              "      <td>29.000000</td>\n",
              "      <td>0.000000</td>\n",
              "      <td>0.000000</td>\n",
              "      <td>94.000000</td>\n",
              "      <td>126.000000</td>\n",
              "      <td>0.000000</td>\n",
              "      <td>0.000000</td>\n",
              "      <td>71.000000</td>\n",
              "      <td>0.000000</td>\n",
              "      <td>0.000000</td>\n",
              "      <td>0.000000</td>\n",
              "      <td>0.000000</td>\n",
              "      <td>0.000000</td>\n",
              "      <td>0.000000</td>\n",
              "    </tr>\n",
              "    <tr>\n",
              "      <th>25%</th>\n",
              "      <td>47.500000</td>\n",
              "      <td>0.000000</td>\n",
              "      <td>0.000000</td>\n",
              "      <td>120.000000</td>\n",
              "      <td>211.000000</td>\n",
              "      <td>0.000000</td>\n",
              "      <td>0.000000</td>\n",
              "      <td>133.500000</td>\n",
              "      <td>0.000000</td>\n",
              "      <td>0.000000</td>\n",
              "      <td>1.000000</td>\n",
              "      <td>0.000000</td>\n",
              "      <td>2.000000</td>\n",
              "      <td>0.000000</td>\n",
              "    </tr>\n",
              "    <tr>\n",
              "      <th>50%</th>\n",
              "      <td>55.000000</td>\n",
              "      <td>1.000000</td>\n",
              "      <td>1.000000</td>\n",
              "      <td>130.000000</td>\n",
              "      <td>240.000000</td>\n",
              "      <td>0.000000</td>\n",
              "      <td>1.000000</td>\n",
              "      <td>153.000000</td>\n",
              "      <td>0.000000</td>\n",
              "      <td>0.800000</td>\n",
              "      <td>1.000000</td>\n",
              "      <td>0.000000</td>\n",
              "      <td>2.000000</td>\n",
              "      <td>1.000000</td>\n",
              "    </tr>\n",
              "    <tr>\n",
              "      <th>75%</th>\n",
              "      <td>61.000000</td>\n",
              "      <td>1.000000</td>\n",
              "      <td>2.000000</td>\n",
              "      <td>140.000000</td>\n",
              "      <td>274.500000</td>\n",
              "      <td>0.000000</td>\n",
              "      <td>1.000000</td>\n",
              "      <td>166.000000</td>\n",
              "      <td>1.000000</td>\n",
              "      <td>1.600000</td>\n",
              "      <td>2.000000</td>\n",
              "      <td>1.000000</td>\n",
              "      <td>3.000000</td>\n",
              "      <td>1.000000</td>\n",
              "    </tr>\n",
              "    <tr>\n",
              "      <th>max</th>\n",
              "      <td>77.000000</td>\n",
              "      <td>1.000000</td>\n",
              "      <td>3.000000</td>\n",
              "      <td>200.000000</td>\n",
              "      <td>564.000000</td>\n",
              "      <td>1.000000</td>\n",
              "      <td>2.000000</td>\n",
              "      <td>202.000000</td>\n",
              "      <td>1.000000</td>\n",
              "      <td>6.200000</td>\n",
              "      <td>2.000000</td>\n",
              "      <td>4.000000</td>\n",
              "      <td>3.000000</td>\n",
              "      <td>1.000000</td>\n",
              "    </tr>\n",
              "  </tbody>\n",
              "</table>\n",
              "</div>\n",
              "      <button class=\"colab-df-convert\" onclick=\"convertToInteractive('df-a1e1ac8e-0796-44d5-af49-01fb5363d826')\"\n",
              "              title=\"Convert this dataframe to an interactive table.\"\n",
              "              style=\"display:none;\">\n",
              "\n",
              "  <svg xmlns=\"http://www.w3.org/2000/svg\" height=\"24px\"viewBox=\"0 0 24 24\"\n",
              "       width=\"24px\">\n",
              "    <path d=\"M0 0h24v24H0V0z\" fill=\"none\"/>\n",
              "    <path d=\"M18.56 5.44l.94 2.06.94-2.06 2.06-.94-2.06-.94-.94-2.06-.94 2.06-2.06.94zm-11 1L8.5 8.5l.94-2.06 2.06-.94-2.06-.94L8.5 2.5l-.94 2.06-2.06.94zm10 10l.94 2.06.94-2.06 2.06-.94-2.06-.94-.94-2.06-.94 2.06-2.06.94z\"/><path d=\"M17.41 7.96l-1.37-1.37c-.4-.4-.92-.59-1.43-.59-.52 0-1.04.2-1.43.59L10.3 9.45l-7.72 7.72c-.78.78-.78 2.05 0 2.83L4 21.41c.39.39.9.59 1.41.59.51 0 1.02-.2 1.41-.59l7.78-7.78 2.81-2.81c.8-.78.8-2.07 0-2.86zM5.41 20L4 18.59l7.72-7.72 1.47 1.35L5.41 20z\"/>\n",
              "  </svg>\n",
              "      </button>\n",
              "\n",
              "\n",
              "\n",
              "    <div id=\"df-b21134e8-74d0-4deb-8a2a-bfe7ac78f325\">\n",
              "      <button class=\"colab-df-quickchart\" onclick=\"quickchart('df-b21134e8-74d0-4deb-8a2a-bfe7ac78f325')\"\n",
              "              title=\"Suggest charts.\"\n",
              "              style=\"display:none;\">\n",
              "\n",
              "<svg xmlns=\"http://www.w3.org/2000/svg\" height=\"24px\"viewBox=\"0 0 24 24\"\n",
              "     width=\"24px\">\n",
              "    <g>\n",
              "        <path d=\"M19 3H5c-1.1 0-2 .9-2 2v14c0 1.1.9 2 2 2h14c1.1 0 2-.9 2-2V5c0-1.1-.9-2-2-2zM9 17H7v-7h2v7zm4 0h-2V7h2v10zm4 0h-2v-4h2v4z\"/>\n",
              "    </g>\n",
              "</svg>\n",
              "      </button>\n",
              "    </div>\n",
              "\n",
              "<style>\n",
              "  .colab-df-quickchart {\n",
              "    background-color: #E8F0FE;\n",
              "    border: none;\n",
              "    border-radius: 50%;\n",
              "    cursor: pointer;\n",
              "    display: none;\n",
              "    fill: #1967D2;\n",
              "    height: 32px;\n",
              "    padding: 0 0 0 0;\n",
              "    width: 32px;\n",
              "  }\n",
              "\n",
              "  .colab-df-quickchart:hover {\n",
              "    background-color: #E2EBFA;\n",
              "    box-shadow: 0px 1px 2px rgba(60, 64, 67, 0.3), 0px 1px 3px 1px rgba(60, 64, 67, 0.15);\n",
              "    fill: #174EA6;\n",
              "  }\n",
              "\n",
              "  [theme=dark] .colab-df-quickchart {\n",
              "    background-color: #3B4455;\n",
              "    fill: #D2E3FC;\n",
              "  }\n",
              "\n",
              "  [theme=dark] .colab-df-quickchart:hover {\n",
              "    background-color: #434B5C;\n",
              "    box-shadow: 0px 1px 3px 1px rgba(0, 0, 0, 0.15);\n",
              "    filter: drop-shadow(0px 1px 2px rgba(0, 0, 0, 0.3));\n",
              "    fill: #FFFFFF;\n",
              "  }\n",
              "</style>\n",
              "\n",
              "    <script>\n",
              "      async function quickchart(key) {\n",
              "        const containerElement = document.querySelector('#' + key);\n",
              "        const charts = await google.colab.kernel.invokeFunction(\n",
              "            'suggestCharts', [key], {});\n",
              "      }\n",
              "    </script>\n",
              "\n",
              "      <script>\n",
              "\n",
              "function displayQuickchartButton(domScope) {\n",
              "  let quickchartButtonEl =\n",
              "    domScope.querySelector('#df-b21134e8-74d0-4deb-8a2a-bfe7ac78f325 button.colab-df-quickchart');\n",
              "  quickchartButtonEl.style.display =\n",
              "    google.colab.kernel.accessAllowed ? 'block' : 'none';\n",
              "}\n",
              "\n",
              "        displayQuickchartButton(document);\n",
              "      </script>\n",
              "      <style>\n",
              "    .colab-df-container {\n",
              "      display:flex;\n",
              "      flex-wrap:wrap;\n",
              "      gap: 12px;\n",
              "    }\n",
              "\n",
              "    .colab-df-convert {\n",
              "      background-color: #E8F0FE;\n",
              "      border: none;\n",
              "      border-radius: 50%;\n",
              "      cursor: pointer;\n",
              "      display: none;\n",
              "      fill: #1967D2;\n",
              "      height: 32px;\n",
              "      padding: 0 0 0 0;\n",
              "      width: 32px;\n",
              "    }\n",
              "\n",
              "    .colab-df-convert:hover {\n",
              "      background-color: #E2EBFA;\n",
              "      box-shadow: 0px 1px 2px rgba(60, 64, 67, 0.3), 0px 1px 3px 1px rgba(60, 64, 67, 0.15);\n",
              "      fill: #174EA6;\n",
              "    }\n",
              "\n",
              "    [theme=dark] .colab-df-convert {\n",
              "      background-color: #3B4455;\n",
              "      fill: #D2E3FC;\n",
              "    }\n",
              "\n",
              "    [theme=dark] .colab-df-convert:hover {\n",
              "      background-color: #434B5C;\n",
              "      box-shadow: 0px 1px 3px 1px rgba(0, 0, 0, 0.15);\n",
              "      filter: drop-shadow(0px 1px 2px rgba(0, 0, 0, 0.3));\n",
              "      fill: #FFFFFF;\n",
              "    }\n",
              "  </style>\n",
              "\n",
              "      <script>\n",
              "        const buttonEl =\n",
              "          document.querySelector('#df-a1e1ac8e-0796-44d5-af49-01fb5363d826 button.colab-df-convert');\n",
              "        buttonEl.style.display =\n",
              "          google.colab.kernel.accessAllowed ? 'block' : 'none';\n",
              "\n",
              "        async function convertToInteractive(key) {\n",
              "          const element = document.querySelector('#df-a1e1ac8e-0796-44d5-af49-01fb5363d826');\n",
              "          const dataTable =\n",
              "            await google.colab.kernel.invokeFunction('convertToInteractive',\n",
              "                                                     [key], {});\n",
              "          if (!dataTable) return;\n",
              "\n",
              "          const docLinkHtml = 'Like what you see? Visit the ' +\n",
              "            '<a target=\"_blank\" href=https://colab.research.google.com/notebooks/data_table.ipynb>data table notebook</a>'\n",
              "            + ' to learn more about interactive tables.';\n",
              "          element.innerHTML = '';\n",
              "          dataTable['output_type'] = 'display_data';\n",
              "          await google.colab.output.renderOutput(dataTable, element);\n",
              "          const docLink = document.createElement('div');\n",
              "          docLink.innerHTML = docLinkHtml;\n",
              "          element.appendChild(docLink);\n",
              "        }\n",
              "      </script>\n",
              "    </div>\n",
              "  </div>\n"
            ]
          },
          "metadata": {},
          "execution_count": 15
        }
      ]
    },
    {
      "cell_type": "markdown",
      "source": [
        "Code: Check for null values\n",
        "\n"
      ],
      "metadata": {
        "id": "XYQ2SwD876-T"
      }
    },
    {
      "cell_type": "code",
      "source": [
        "data.isnull().any()\n"
      ],
      "metadata": {
        "id": "qHpHjTvTjLcT",
        "colab": {
          "base_uri": "https://localhost:8080/"
        },
        "outputId": "4de1865a-a9dc-42e0-f439-f90e7c41b189"
      },
      "execution_count": null,
      "outputs": [
        {
          "output_type": "execute_result",
          "data": {
            "text/plain": [
              "age         False\n",
              "sex         False\n",
              "cp          False\n",
              "trestbps    False\n",
              "chol        False\n",
              "fbs         False\n",
              "restecg     False\n",
              "thalach     False\n",
              "exang       False\n",
              "oldpeak     False\n",
              "slope       False\n",
              "ca          False\n",
              "thal        False\n",
              "target      False\n",
              "dtype: bool"
            ]
          },
          "metadata": {},
          "execution_count": 16
        }
      ]
    },
    {
      "cell_type": "markdown",
      "source": [
        "Assign Dependent and Independent variable\n",
        "\n"
      ],
      "metadata": {
        "id": "pAC3XKP879IJ"
      }
    },
    {
      "cell_type": "code",
      "source": [
        "X = data.iloc[:,:13].values\n",
        "y = data[\"target\"].values\n"
      ],
      "metadata": {
        "id": "mdJHJcq7jNGb"
      },
      "execution_count": null,
      "outputs": []
    },
    {
      "cell_type": "markdown",
      "source": [
        "Code : Split data into Train and Test dataset\n",
        "\n"
      ],
      "metadata": {
        "id": "OOHPw7J_93Tp"
      }
    },
    {
      "cell_type": "code",
      "source": [
        "from sklearn.model_selection import train_test_split\n",
        "\n",
        "X_train,X_test,y_train, y_test = train_test_split(X,y,test_size = 0.3 , random_state = 0 )\n"
      ],
      "metadata": {
        "id": "eCon9t-GjPDD"
      },
      "execution_count": null,
      "outputs": []
    },
    {
      "cell_type": "markdown",
      "source": [
        "Code: Scale the data.\n",
        "\n"
      ],
      "metadata": {
        "id": "4_Mo-QmH99L9"
      }
    },
    {
      "cell_type": "code",
      "source": [
        "from sklearn.preprocessing import StandardScaler\n",
        "sc = StandardScaler()\n",
        "X_train = sc.fit_transform(X_train)\n",
        "X_test = sc.transform(X_test)\n"
      ],
      "metadata": {
        "id": "IdWDaleVjRBV"
      },
      "execution_count": null,
      "outputs": []
    },
    {
      "cell_type": "markdown",
      "source": [
        "Code: Building the Model\n",
        "\n",
        "\n"
      ],
      "metadata": {
        "id": "zV4KLPWM7XXt"
      }
    },
    {
      "cell_type": "code",
      "source": [
        "classifier = Sequential()\n",
        "classifier.add(Dense(activation = \"relu\", input_dim = 13,\n",
        "\t\t\t\t\tunits = 8, kernel_initializer = \"uniform\"))\n",
        "classifier.add(Dense(activation = \"relu\", units = 14,\n",
        "\t\t\t\t\tkernel_initializer = \"uniform\"))\n",
        "classifier.add(Dense(activation = \"sigmoid\", units = 1,\n",
        "\t\t\t\t\tkernel_initializer = \"uniform\"))\n",
        "classifier.compile(optimizer = 'adam' , loss = 'binary_crossentropy',\n",
        "\t\t\t\tmetrics = ['accuracy'] )\n"
      ],
      "metadata": {
        "id": "29QUbTNDjS-k"
      },
      "execution_count": null,
      "outputs": []
    },
    {
      "cell_type": "markdown",
      "source": [
        "Code : Fitting the Model\n",
        "\n"
      ],
      "metadata": {
        "id": "3940SjpU8MWb"
      }
    },
    {
      "cell_type": "code",
      "source": [
        "classifier.fit(X_train , y_train , batch_size = 8 ,epochs = 100 )\n"
      ],
      "metadata": {
        "id": "3wGh625BjVAz",
        "colab": {
          "base_uri": "https://localhost:8080/"
        },
        "outputId": "2b08a6cc-39ab-4418-eca8-e4a18b723889"
      },
      "execution_count": null,
      "outputs": [
        {
          "output_type": "stream",
          "name": "stdout",
          "text": [
            "Epoch 1/100\n",
            "27/27 [==============================] - 1s 2ms/step - loss: 0.6924 - accuracy: 0.6415\n",
            "Epoch 2/100\n",
            "27/27 [==============================] - 0s 2ms/step - loss: 0.6875 - accuracy: 0.8443\n",
            "Epoch 3/100\n",
            "27/27 [==============================] - 0s 2ms/step - loss: 0.6719 - accuracy: 0.8443\n",
            "Epoch 4/100\n",
            "27/27 [==============================] - 0s 2ms/step - loss: 0.6356 - accuracy: 0.8396\n",
            "Epoch 5/100\n",
            "27/27 [==============================] - 0s 2ms/step - loss: 0.5805 - accuracy: 0.8396\n",
            "Epoch 6/100\n",
            "27/27 [==============================] - 0s 2ms/step - loss: 0.5224 - accuracy: 0.8538\n",
            "Epoch 7/100\n",
            "27/27 [==============================] - 0s 2ms/step - loss: 0.4772 - accuracy: 0.8726\n",
            "Epoch 8/100\n",
            "27/27 [==============================] - 0s 2ms/step - loss: 0.4381 - accuracy: 0.8726\n",
            "Epoch 9/100\n",
            "27/27 [==============================] - 0s 2ms/step - loss: 0.4069 - accuracy: 0.8726\n",
            "Epoch 10/100\n",
            "27/27 [==============================] - 0s 2ms/step - loss: 0.3809 - accuracy: 0.8726\n",
            "Epoch 11/100\n",
            "27/27 [==============================] - 0s 2ms/step - loss: 0.3607 - accuracy: 0.8726\n",
            "Epoch 12/100\n",
            "27/27 [==============================] - 0s 2ms/step - loss: 0.3481 - accuracy: 0.8774\n",
            "Epoch 13/100\n",
            "27/27 [==============================] - 0s 2ms/step - loss: 0.3388 - accuracy: 0.8726\n",
            "Epoch 14/100\n",
            "27/27 [==============================] - 0s 2ms/step - loss: 0.3340 - accuracy: 0.8726\n",
            "Epoch 15/100\n",
            "27/27 [==============================] - 0s 2ms/step - loss: 0.3297 - accuracy: 0.8726\n",
            "Epoch 16/100\n",
            "27/27 [==============================] - 0s 2ms/step - loss: 0.3257 - accuracy: 0.8726\n",
            "Epoch 17/100\n",
            "27/27 [==============================] - 0s 2ms/step - loss: 0.3225 - accuracy: 0.8774\n",
            "Epoch 18/100\n",
            "27/27 [==============================] - 0s 2ms/step - loss: 0.3200 - accuracy: 0.8774\n",
            "Epoch 19/100\n",
            "27/27 [==============================] - 0s 2ms/step - loss: 0.3183 - accuracy: 0.8679\n",
            "Epoch 20/100\n",
            "27/27 [==============================] - 0s 2ms/step - loss: 0.3168 - accuracy: 0.8726\n",
            "Epoch 21/100\n",
            "27/27 [==============================] - 0s 2ms/step - loss: 0.3157 - accuracy: 0.8774\n",
            "Epoch 22/100\n",
            "27/27 [==============================] - 0s 2ms/step - loss: 0.3139 - accuracy: 0.8821\n",
            "Epoch 23/100\n",
            "27/27 [==============================] - 0s 2ms/step - loss: 0.3120 - accuracy: 0.8821\n",
            "Epoch 24/100\n",
            "27/27 [==============================] - 0s 2ms/step - loss: 0.3099 - accuracy: 0.8821\n",
            "Epoch 25/100\n",
            "27/27 [==============================] - 0s 2ms/step - loss: 0.3078 - accuracy: 0.8774\n",
            "Epoch 26/100\n",
            "27/27 [==============================] - 0s 2ms/step - loss: 0.3050 - accuracy: 0.8774\n",
            "Epoch 27/100\n",
            "27/27 [==============================] - 0s 2ms/step - loss: 0.3048 - accuracy: 0.8774\n",
            "Epoch 28/100\n",
            "27/27 [==============================] - 0s 2ms/step - loss: 0.3035 - accuracy: 0.8774\n",
            "Epoch 29/100\n",
            "27/27 [==============================] - 0s 2ms/step - loss: 0.3014 - accuracy: 0.8726\n",
            "Epoch 30/100\n",
            "27/27 [==============================] - 0s 2ms/step - loss: 0.3004 - accuracy: 0.8774\n",
            "Epoch 31/100\n",
            "27/27 [==============================] - 0s 2ms/step - loss: 0.2979 - accuracy: 0.8774\n",
            "Epoch 32/100\n",
            "27/27 [==============================] - 0s 2ms/step - loss: 0.2992 - accuracy: 0.8774\n",
            "Epoch 33/100\n",
            "27/27 [==============================] - 0s 2ms/step - loss: 0.2972 - accuracy: 0.8774\n",
            "Epoch 34/100\n",
            "27/27 [==============================] - 0s 2ms/step - loss: 0.2952 - accuracy: 0.8774\n",
            "Epoch 35/100\n",
            "27/27 [==============================] - 0s 2ms/step - loss: 0.2941 - accuracy: 0.8774\n",
            "Epoch 36/100\n",
            "27/27 [==============================] - 0s 2ms/step - loss: 0.2938 - accuracy: 0.8726\n",
            "Epoch 37/100\n",
            "27/27 [==============================] - 0s 2ms/step - loss: 0.2940 - accuracy: 0.8774\n",
            "Epoch 38/100\n",
            "27/27 [==============================] - 0s 2ms/step - loss: 0.2928 - accuracy: 0.8821\n",
            "Epoch 39/100\n",
            "27/27 [==============================] - 0s 2ms/step - loss: 0.2909 - accuracy: 0.8774\n",
            "Epoch 40/100\n",
            "27/27 [==============================] - 0s 2ms/step - loss: 0.2887 - accuracy: 0.8915\n",
            "Epoch 41/100\n",
            "27/27 [==============================] - 0s 2ms/step - loss: 0.2892 - accuracy: 0.8821\n",
            "Epoch 42/100\n",
            "27/27 [==============================] - 0s 2ms/step - loss: 0.2880 - accuracy: 0.8915\n",
            "Epoch 43/100\n",
            "27/27 [==============================] - 0s 2ms/step - loss: 0.2869 - accuracy: 0.8821\n",
            "Epoch 44/100\n",
            "27/27 [==============================] - 0s 2ms/step - loss: 0.2865 - accuracy: 0.8868\n",
            "Epoch 45/100\n",
            "27/27 [==============================] - 0s 2ms/step - loss: 0.2856 - accuracy: 0.8962\n",
            "Epoch 46/100\n",
            "27/27 [==============================] - 0s 2ms/step - loss: 0.2838 - accuracy: 0.8962\n",
            "Epoch 47/100\n",
            "27/27 [==============================] - 0s 2ms/step - loss: 0.2826 - accuracy: 0.8962\n",
            "Epoch 48/100\n",
            "27/27 [==============================] - 0s 2ms/step - loss: 0.2825 - accuracy: 0.9009\n",
            "Epoch 49/100\n",
            "27/27 [==============================] - 0s 2ms/step - loss: 0.2819 - accuracy: 0.8868\n",
            "Epoch 50/100\n",
            "27/27 [==============================] - 0s 2ms/step - loss: 0.2812 - accuracy: 0.8962\n",
            "Epoch 51/100\n",
            "27/27 [==============================] - 0s 2ms/step - loss: 0.2800 - accuracy: 0.8962\n",
            "Epoch 52/100\n",
            "27/27 [==============================] - 0s 2ms/step - loss: 0.2787 - accuracy: 0.8962\n",
            "Epoch 53/100\n",
            "27/27 [==============================] - 0s 2ms/step - loss: 0.2788 - accuracy: 0.8962\n",
            "Epoch 54/100\n",
            "27/27 [==============================] - 0s 2ms/step - loss: 0.2771 - accuracy: 0.9009\n",
            "Epoch 55/100\n",
            "27/27 [==============================] - 0s 2ms/step - loss: 0.2765 - accuracy: 0.8962\n",
            "Epoch 56/100\n",
            "27/27 [==============================] - 0s 2ms/step - loss: 0.2757 - accuracy: 0.8962\n",
            "Epoch 57/100\n",
            "27/27 [==============================] - 0s 2ms/step - loss: 0.2746 - accuracy: 0.9009\n",
            "Epoch 58/100\n",
            "27/27 [==============================] - 0s 2ms/step - loss: 0.2747 - accuracy: 0.8962\n",
            "Epoch 59/100\n",
            "27/27 [==============================] - 0s 2ms/step - loss: 0.2738 - accuracy: 0.8962\n",
            "Epoch 60/100\n",
            "27/27 [==============================] - 0s 2ms/step - loss: 0.2718 - accuracy: 0.9009\n",
            "Epoch 61/100\n",
            "27/27 [==============================] - 0s 2ms/step - loss: 0.2711 - accuracy: 0.9009\n",
            "Epoch 62/100\n",
            "27/27 [==============================] - 0s 2ms/step - loss: 0.2705 - accuracy: 0.8962\n",
            "Epoch 63/100\n",
            "27/27 [==============================] - 0s 2ms/step - loss: 0.2694 - accuracy: 0.9009\n",
            "Epoch 64/100\n",
            "27/27 [==============================] - 0s 2ms/step - loss: 0.2683 - accuracy: 0.9009\n",
            "Epoch 65/100\n",
            "27/27 [==============================] - 0s 2ms/step - loss: 0.2675 - accuracy: 0.9009\n",
            "Epoch 66/100\n",
            "27/27 [==============================] - 0s 2ms/step - loss: 0.2663 - accuracy: 0.8962\n",
            "Epoch 67/100\n",
            "27/27 [==============================] - 0s 2ms/step - loss: 0.2651 - accuracy: 0.8962\n",
            "Epoch 68/100\n",
            "27/27 [==============================] - 0s 2ms/step - loss: 0.2638 - accuracy: 0.9009\n",
            "Epoch 69/100\n",
            "27/27 [==============================] - 0s 2ms/step - loss: 0.2639 - accuracy: 0.9009\n",
            "Epoch 70/100\n",
            "27/27 [==============================] - 0s 2ms/step - loss: 0.2634 - accuracy: 0.9009\n",
            "Epoch 71/100\n",
            "27/27 [==============================] - 0s 2ms/step - loss: 0.2618 - accuracy: 0.8962\n",
            "Epoch 72/100\n",
            "27/27 [==============================] - 0s 2ms/step - loss: 0.2617 - accuracy: 0.9104\n",
            "Epoch 73/100\n",
            "27/27 [==============================] - 0s 2ms/step - loss: 0.2604 - accuracy: 0.9057\n",
            "Epoch 74/100\n",
            "27/27 [==============================] - 0s 2ms/step - loss: 0.2597 - accuracy: 0.9057\n",
            "Epoch 75/100\n",
            "27/27 [==============================] - 0s 2ms/step - loss: 0.2586 - accuracy: 0.9057\n",
            "Epoch 76/100\n",
            "27/27 [==============================] - 0s 2ms/step - loss: 0.2571 - accuracy: 0.9057\n",
            "Epoch 77/100\n",
            "27/27 [==============================] - 0s 2ms/step - loss: 0.2568 - accuracy: 0.9057\n",
            "Epoch 78/100\n",
            "27/27 [==============================] - 0s 2ms/step - loss: 0.2557 - accuracy: 0.9057\n",
            "Epoch 79/100\n",
            "27/27 [==============================] - 0s 2ms/step - loss: 0.2540 - accuracy: 0.9057\n",
            "Epoch 80/100\n",
            "27/27 [==============================] - 0s 2ms/step - loss: 0.2539 - accuracy: 0.9057\n",
            "Epoch 81/100\n",
            "27/27 [==============================] - 0s 2ms/step - loss: 0.2523 - accuracy: 0.9057\n",
            "Epoch 82/100\n",
            "27/27 [==============================] - 0s 2ms/step - loss: 0.2515 - accuracy: 0.9057\n",
            "Epoch 83/100\n",
            "27/27 [==============================] - 0s 2ms/step - loss: 0.2507 - accuracy: 0.9057\n",
            "Epoch 84/100\n",
            "27/27 [==============================] - 0s 2ms/step - loss: 0.2497 - accuracy: 0.9057\n",
            "Epoch 85/100\n",
            "27/27 [==============================] - 0s 2ms/step - loss: 0.2486 - accuracy: 0.9057\n",
            "Epoch 86/100\n",
            "27/27 [==============================] - 0s 2ms/step - loss: 0.2490 - accuracy: 0.9009\n",
            "Epoch 87/100\n",
            "27/27 [==============================] - 0s 2ms/step - loss: 0.2484 - accuracy: 0.9057\n",
            "Epoch 88/100\n",
            "27/27 [==============================] - 0s 2ms/step - loss: 0.2463 - accuracy: 0.9009\n",
            "Epoch 89/100\n",
            "27/27 [==============================] - 0s 2ms/step - loss: 0.2452 - accuracy: 0.9057\n",
            "Epoch 90/100\n",
            "27/27 [==============================] - 0s 2ms/step - loss: 0.2450 - accuracy: 0.9009\n",
            "Epoch 91/100\n",
            "27/27 [==============================] - 0s 2ms/step - loss: 0.2445 - accuracy: 0.9057\n",
            "Epoch 92/100\n",
            "27/27 [==============================] - 0s 2ms/step - loss: 0.2444 - accuracy: 0.9057\n",
            "Epoch 93/100\n",
            "27/27 [==============================] - 0s 2ms/step - loss: 0.2436 - accuracy: 0.9151\n",
            "Epoch 94/100\n",
            "27/27 [==============================] - 0s 2ms/step - loss: 0.2412 - accuracy: 0.9057\n",
            "Epoch 95/100\n",
            "27/27 [==============================] - 0s 2ms/step - loss: 0.2410 - accuracy: 0.9057\n",
            "Epoch 96/100\n",
            "27/27 [==============================] - 0s 2ms/step - loss: 0.2400 - accuracy: 0.9057\n",
            "Epoch 97/100\n",
            "27/27 [==============================] - 0s 2ms/step - loss: 0.2387 - accuracy: 0.9009\n",
            "Epoch 98/100\n",
            "27/27 [==============================] - 0s 2ms/step - loss: 0.2381 - accuracy: 0.9057\n",
            "Epoch 99/100\n",
            "27/27 [==============================] - 0s 3ms/step - loss: 0.2379 - accuracy: 0.9057\n",
            "Epoch 100/100\n",
            "27/27 [==============================] - 0s 3ms/step - loss: 0.2363 - accuracy: 0.9151\n"
          ]
        },
        {
          "output_type": "execute_result",
          "data": {
            "text/plain": [
              "<keras.callbacks.History at 0x7fe4dafca4d0>"
            ]
          },
          "metadata": {},
          "execution_count": 21
        }
      ]
    },
    {
      "cell_type": "markdown",
      "source": [
        "Code : Performing prediction and rescaling\n",
        "\n",
        "\n"
      ],
      "metadata": {
        "id": "gomjeXYY8ORO"
      }
    },
    {
      "cell_type": "code",
      "source": [
        "y_pred = classifier.predict(X_test)\n",
        "y_pred = (y_pred > 0.5)\n"
      ],
      "metadata": {
        "colab": {
          "base_uri": "https://localhost:8080/"
        },
        "id": "KpI81MnGjW0W",
        "outputId": "7edcbf9e-be53-4a0c-bf7b-fa785e28e7fc"
      },
      "execution_count": null,
      "outputs": [
        {
          "output_type": "stream",
          "name": "stdout",
          "text": [
            "3/3 [==============================] - 0s 3ms/step\n"
          ]
        }
      ]
    },
    {
      "cell_type": "markdown",
      "source": [
        "Code: Confusion Matrix\n",
        "\n"
      ],
      "metadata": {
        "id": "jjow_n4R8RQU"
      }
    },
    {
      "cell_type": "code",
      "source": [
        "cm = confusion_matrix(y_test,y_pred)\n",
        "cm\n"
      ],
      "metadata": {
        "id": "akwd6huLjYjO",
        "colab": {
          "base_uri": "https://localhost:8080/"
        },
        "outputId": "b3f16744-d547-487d-b147-dd692c522074"
      },
      "execution_count": null,
      "outputs": [
        {
          "output_type": "execute_result",
          "data": {
            "text/plain": [
              "array([[32, 12],\n",
              "       [ 5, 42]])"
            ]
          },
          "metadata": {},
          "execution_count": 23
        }
      ]
    },
    {
      "cell_type": "code",
      "source": [
        "import seaborn as sns\n",
        "\n",
        "plt.figure(figsize=(8, 6))\n",
        "sns.heatmap(cm, annot=True, fmt=\"d\", cmap=\"Blues\",\n",
        "            xticklabels=[\"class 0\", \"class 1\"], yticklabels=[\"class 0\", \"class 1\"])\n",
        "plt.xlabel(\"Predicted\")\n",
        "plt.ylabel(\"Actual\")\n",
        "plt.title(\"Confusion Matrix\")\n",
        "plt.show()"
      ],
      "metadata": {
        "colab": {
          "base_uri": "https://localhost:8080/",
          "height": 564
        },
        "id": "mpgs57eZ_Pgd",
        "outputId": "e0999903-5371-484a-d1fb-6fbf7046c8e5"
      },
      "execution_count": null,
      "outputs": [
        {
          "output_type": "display_data",
          "data": {
            "text/plain": [
              "<Figure size 800x600 with 2 Axes>"
            ],
            "image/png": "[encoded data removed]"
          },
          "metadata": {}
        }
      ]
    },
    {
      "cell_type": "markdown",
      "source": [
        "Code: Accuracy\n",
        "\n"
      ],
      "metadata": {
        "id": "MAlqsJMA8UHt"
      }
    },
    {
      "cell_type": "code",
      "source": [
        "accuracy = (cm[0][0]+cm[1][1])/(cm[0][1] + cm[1][0] +cm[0][0] +cm[1][1])\n",
        "print(accuracy*100)\n"
      ],
      "metadata": {
        "id": "Lc_Xxl3t3swa",
        "colab": {
          "base_uri": "https://localhost:8080/"
        },
        "outputId": "97d4b9fa-4c8e-4677-e3ae-d0781b9566fb"
      },
      "execution_count": null,
      "outputs": [
        {
          "output_type": "stream",
          "name": "stdout",
          "text": [
            "81.31868131868131\n"
          ]
        }
      ]
    }
  ]
}